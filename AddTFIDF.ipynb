{
 "cells": [
  {
   "cell_type": "code",
   "execution_count": 1,
   "metadata": {
    "collapsed": true
   },
   "outputs": [],
   "source": [
    "import pandas as pd\n",
    "import matplotlib as mp\n",
    "import re\n",
    "import plotly.plotly as py\n",
    "import plotly.graph_objs as go\n",
    "import sklearn as sk\n"
   ]
  },
  {
   "cell_type": "code",
   "execution_count": 2,
   "metadata": {
    "collapsed": true
   },
   "outputs": [],
   "source": [
    "df_train = pd.read_csv('Data/train.csv', encoding='ISO-8859-1')\n",
    "df_attr = pd.read_csv('Data/attributes.csv',  encoding='ISO-8859-1')\n",
    "df_prod_desc = pd.read_csv('Data/product_descriptions.csv', encoding='ISO-8859-1')\n",
    "df_minFeatures = pd.read_table('Data/train_with_features.csv', sep=\"|\", quotechar=\" \", encoding='ISO-8859-1')\n",
    "#Renaming to remove the quotes from the beginning of the col names\n",
    "df_minFeatures.rename(columns=lambda x: x[:-1], inplace=True)\n",
    "df_minFeatures.rename(columns=lambda x: x[1:], inplace=True)\n",
    "df_tfidf_prod_desc = pd.read_csv('prod_desc_tfidf.score', names = ['word','product_uid','tfidf_score'], dtype={'word':str, 'product_uid':str,'tfidf_score':float})"
   ]
  },
  {
   "cell_type": "code",
   "execution_count": 5,
   "metadata": {
    "collapsed": false
   },
   "outputs": [
    {
     "data": {
      "text/plain": [
       "Index(['product_uid', 'id', 'product_title', 'search_term', 'relevance',\n",
       "       'product_description', 'perc_term_in_title', 'perc_term_in_descr',\n",
       "       'whole_term_in_title', 'whole_term_in_descr', 'search_term_length',\n",
       "       'tfscore'],\n",
       "      dtype='object')"
      ]
     },
     "execution_count": 5,
     "metadata": {},
     "output_type": "execute_result"
    }
   ],
   "source": [
    "df_minFeatures['tfscore'] = 0.0\n",
    "df_minFeatures.columns"
   ]
  },
  {
   "cell_type": "code",
   "execution_count": 12,
   "metadata": {
    "collapsed": false
   },
   "outputs": [
    {
     "name": "stdout",
     "output_type": "stream",
     "text": [
      "100001\n",
      "angle\n",
      "Empty DataFrame\n",
      "Columns: [word, product_uid, tfidf_score]\n",
      "Index: []\n",
      "bracket\n",
      "Empty DataFrame\n",
      "Columns: [word, product_uid, tfidf_score]\n",
      "Index: []\n",
      "0.0\n",
      "100001\n",
      "l\n",
      "Empty DataFrame\n",
      "Columns: [word, product_uid, tfidf_score]\n",
      "Index: []\n",
      "bracket\n",
      "Empty DataFrame\n",
      "Columns: [word, product_uid, tfidf_score]\n",
      "Index: []\n",
      "0.0\n",
      "100002\n",
      "deck\n",
      "Empty DataFrame\n",
      "Columns: [word, product_uid, tfidf_score]\n",
      "Index: []\n",
      "over\n",
      "Empty DataFrame\n",
      "Columns: [word, product_uid, tfidf_score]\n",
      "Index: []\n",
      "0.0\n",
      "100005\n",
      "rain\n",
      "Empty DataFrame\n",
      "Columns: [word, product_uid, tfidf_score]\n",
      "Index: []\n",
      "shower\n",
      "Empty DataFrame\n",
      "Columns: [word, product_uid, tfidf_score]\n",
      "Index: []\n",
      "head\n",
      "Empty DataFrame\n",
      "Columns: [word, product_uid, tfidf_score]\n",
      "Index: []\n",
      "0.0\n",
      "100005\n",
      "shower\n",
      "Empty DataFrame\n",
      "Columns: [word, product_uid, tfidf_score]\n",
      "Index: []\n",
      "only\n",
      "Empty DataFrame\n",
      "Columns: [word, product_uid, tfidf_score]\n",
      "Index: []\n",
      "faucet\n",
      "Empty DataFrame\n",
      "Columns: [word, product_uid, tfidf_score]\n",
      "Index: []\n",
      "0.0\n",
      "100006\n",
      "convection\n",
      "Empty DataFrame\n",
      "Columns: [word, product_uid, tfidf_score]\n",
      "Index: []\n",
      "otr\n",
      "Empty DataFrame\n",
      "Columns: [word, product_uid, tfidf_score]\n",
      "Index: []\n",
      "0.0\n"
     ]
    },
    {
     "name": "stderr",
     "output_type": "stream",
     "text": [
      "/home/adarsh/anaconda3/lib/python3.4/site-packages/ipykernel/__main__.py:16: SettingWithCopyWarning:\n",
      "\n",
      "\n",
      "A value is trying to be set on a copy of a slice from a DataFrame\n",
      "\n",
      "See the the caveats in the documentation: http://pandas.pydata.org/pandas-docs/stable/indexing.html#indexing-view-versus-copy\n",
      "\n"
     ]
    }
   ],
   "source": [
    "i = 0\n",
    "for line in df_minFeatures.iterrows():\n",
    "    tf_score=0.0\n",
    "    prod_uid = line[1].product_uid\n",
    "    prod_uid = str(prod_uid)\n",
    "    print(prod_uid)\n",
    "    for w in line[1].search_term.split():\n",
    "        w = w.replace('\"','')\n",
    "        print (w)\n",
    "        w = w.strip()\n",
    "        print(df_tfidf_prod_desc[(df_tfidf_prod_desc['word'] == w) & (df_tfidf_prod_desc['product_uid'] == prod_uid )])\n",
    "\n",
    "        for tfidf in df_tfidf_prod_desc[(df_tfidf_prod_desc['word'] == w) & (df_tfidf_prod_desc['product_uid'] == prod_uid )].iterrows():\n",
    "            tf_score += tfidf[1].tfidf_score\n",
    "            print (tfidf[1])\n",
    "    df_minFeatures['tfscore'][line[0]] = tf_score\n",
    "    print(tf_score)\n",
    "    i+=1\n",
    "    if i > 5:\n",
    "        break"
   ]
  },
  {
   "cell_type": "code",
   "execution_count": null,
   "metadata": {
    "collapsed": false
   },
   "outputs": [],
   "source": [
    "df_minFeatures.head()"
   ]
  },
  {
   "cell_type": "code",
   "execution_count": 44,
   "metadata": {
    "collapsed": false
   },
   "outputs": [
    {
     "data": {
      "text/plain": [
       "False    10865066\n",
       "dtype: int64"
      ]
     },
     "execution_count": 44,
     "metadata": {},
     "output_type": "execute_result"
    }
   ],
   "source": [
    "(df_tfidf_prod_desc['product_uid'].str[0:7] == u'100002').value_counts()"
   ]
  },
  {
   "cell_type": "code",
   "execution_count": null,
   "metadata": {
    "collapsed": true
   },
   "outputs": [],
   "source": []
  }
 ],
 "metadata": {
  "kernelspec": {
   "display_name": "Python 3",
   "language": "python",
   "name": "python3"
  },
  "language_info": {
   "codemirror_mode": {
    "name": "ipython",
    "version": 3
   },
   "file_extension": ".py",
   "mimetype": "text/x-python",
   "name": "python",
   "nbconvert_exporter": "python",
   "pygments_lexer": "ipython3",
   "version": "3.4.3"
  }
 },
 "nbformat": 4,
 "nbformat_minor": 0
}
